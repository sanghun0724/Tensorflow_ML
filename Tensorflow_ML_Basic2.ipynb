{
  "nbformat": 4,
  "nbformat_minor": 0,
  "metadata": {
    "colab": {
      "name": "basicML.ipynb",
      "provenance": [],
      "authorship_tag": "ABX9TyOkRX5SKkEkBRuw/RjLjSbi",
      "include_colab_link": true
    },
    "kernelspec": {
      "name": "python3",
      "display_name": "Python 3"
    },
    "language_info": {
      "name": "python"
    }
  },
  "cells": [
    {
      "cell_type": "markdown",
      "metadata": {
        "id": "view-in-github",
        "colab_type": "text"
      },
      "source": [
        "<a href=\"https://colab.research.google.com/github/sanghun0724/Tensorflow_ML/blob/main/Tensorflow_ML_Basic2.ipynb\" target=\"_parent\"><img src=\"https://colab.research.google.com/assets/colab-badge.svg\" alt=\"Open In Colab\"/></a>"
      ]
    },
    {
      "cell_type": "code",
      "metadata": {
        "id": "hNP_zXs8RMJH"
      },
      "source": [
        "import tensorflow as tf"
      ],
      "execution_count": null,
      "outputs": []
    },
    {
      "cell_type": "code",
      "metadata": {
        "id": "ZwKtlVcqRSl9"
      },
      "source": [
        "x_data = [1,2,3,4,5]\n",
        "y_data = [1,2,3,4,5]"
      ],
      "execution_count": null,
      "outputs": []
    },
    {
      "cell_type": "code",
      "metadata": {
        "id": "vaPrzjWiRW6H"
      },
      "source": [
        "W = tf.Variable(2.9)\n",
        "b = tf.Variable(0.5)"
      ],
      "execution_count": null,
      "outputs": []
    },
    {
      "cell_type": "code",
      "metadata": {
        "id": "0R_RflU8R7Yf"
      },
      "source": [
        "#Gradient descent\n",
        "#minimize cost(W,b)\n",
        "\n",
        "#learning_rate init\n",
        "learning_rate = 0.01"
      ],
      "execution_count": null,
      "outputs": []
    },
    {
      "cell_type": "code",
      "metadata": {
        "colab": {
          "base_uri": "https://localhost:8080/"
        },
        "id": "_OGsJdXQSiSz",
        "outputId": "2aaf0a7d-6158-4e38-b2d9-2a823bd0e7c9"
      },
      "source": [
        "#한번 반복할때마다 오차줄여나가는것 \n",
        "for i in range(100 + 1):\n",
        "    with tf.GradientTape() as tape:\n",
        "      hypothesis = W * x_data + b\n",
        "      cost = tf.reduce_mean(tf.square(hypothesis - y_data))\n",
        "    w_grad, b_grad = tape.gradient(cost, [W,b]) ##미분값 할당 (기울기)\n",
        "    W.assign_sub(learning_rate * w_grad) ## W-=1\n",
        "    b.assign_sub(learning_rate * b_grad)     ##w,b 값 계속 갱신 \n",
        "    if i % 10 == 0:\n",
        "       print(i,W.numpy(),b.numpy(),cost)"
      ],
      "execution_count": null,
      "outputs": [
        {
          "output_type": "stream",
          "text": [
            "0 2.4520001 0.376 tf.Tensor(45.660004, shape=(), dtype=float32)\n",
            "10 1.1036423 0.0033982983 tf.Tensor(0.20633578, shape=(), dtype=float32)\n",
            "20 1.0128218 -0.02091473 tf.Tensor(0.0010261126, shape=(), dtype=float32)\n",
            "30 1.006523 -0.021844687 tf.Tensor(9.2629794e-05, shape=(), dtype=float32)\n",
            "40 1.0059112 -0.021226583 tf.Tensor(8.2652245e-05, shape=(), dtype=float32)\n",
            "50 1.0056878 -0.0205271 tf.Tensor(7.722109e-05, shape=(), dtype=float32)\n",
            "60 1.0054966 -0.019844048 tf.Tensor(7.216302e-05, shape=(), dtype=float32)\n",
            "70 1.0053135 -0.019183282 tf.Tensor(6.743685e-05, shape=(), dtype=float32)\n",
            "80 1.0051365 -0.018544475 tf.Tensor(6.301909e-05, shape=(), dtype=float32)\n",
            "90 1.0049654 -0.017926913 tf.Tensor(5.8892492e-05, shape=(), dtype=float32)\n",
            "100 1.0048001 -0.017329952 tf.Tensor(5.5036602e-05, shape=(), dtype=float32)\n"
          ],
          "name": "stdout"
        }
      ]
    },
    {
      "cell_type": "code",
      "metadata": {
        "colab": {
          "base_uri": "https://localhost:8080/"
        },
        "id": "WFe47pJwWDbd",
        "outputId": "2f82f30d-0429-45f4-f59f-67ba35f1ecbb"
      },
      "source": [
        "print(W * 5 + b)\n",
        "print(W * 2.5 + b)"
      ],
      "execution_count": null,
      "outputs": [
        {
          "output_type": "stream",
          "text": [
            "tf.Tensor(5.00667, shape=(), dtype=float32)\n",
            "tf.Tensor(2.4946702, shape=(), dtype=float32)\n"
          ],
          "name": "stdout"
        }
      ]
    }
  ]
}